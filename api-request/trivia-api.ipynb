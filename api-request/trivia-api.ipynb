{
 "cells": [
  {
   "cell_type": "code",
   "execution_count": 1,
   "metadata": {},
   "outputs": [
    {
     "name": "stderr",
     "output_type": "stream",
     "text": [
      "/Users/jadelarriva-latt/Library/Python/3.9/lib/python/site-packages/urllib3/__init__.py:34: NotOpenSSLWarning: urllib3 v2.0 only supports OpenSSL 1.1.1+, currently the 'ssl' module is compiled with 'LibreSSL 2.8.3'. See: https://github.com/urllib3/urllib3/issues/3020\n",
      "  warnings.warn(\n"
     ]
    }
   ],
   "source": [
    "import pandas as pd\n",
    "from pandas import json_normalize\n",
    "import requests"
   ]
  },
  {
   "cell_type": "markdown",
   "metadata": {},
   "source": [
    "# sending api request"
   ]
  },
  {
   "cell_type": "code",
   "execution_count": 2,
   "metadata": {},
   "outputs": [
    {
     "data": {
      "text/plain": [
       "'{\"response_code\":0,\"results\":[{\"category\":\"Geography\",\"type\":\"multiple\",\"difficulty\":\"easy\",\"question\":\"Which city is the capital of the United States of America?\",\"correct_answer\":\"Washington D.C\",\"incorrect_answers\":[\"Seattle\",\"Albany\",\"Los Angeles\"]},{\"category\":\"Geography\",\"type\":\"boolean\",\"difficulty\":\"easy\",\"question\":\"A group of islands is called an &#039;archipelago&#039;.\",\"correct_answer\":\"True\",\"incorrect_answers\":[\"False\"]},{\"category\":\"Geography\",\"type\":\"multiple\",\"difficulty\":\"easy\",\"question\":\"Which of these is NOT an Australian state or territory?\",\"correct_answer\":\"Alberta\",\"incorrect_answers\":[\"New South Wales\",\"Victoria\",\"Queensland\"]},{\"category\":\"Geography\",\"type\":\"multiple\",\"difficulty\":\"easy\",\"question\":\"How many federal states does Germany have?\",\"correct_answer\":\"16\",\"incorrect_answers\":[\"13\",\"32\",\"25\"]},{\"category\":\"Geography\",\"type\":\"multiple\",\"difficulty\":\"easy\",\"question\":\"Which of the following European languages is classified as a &quot;language isolate?&quot;\",\"correct_answer\":\"Basque\",\"incorrect_answers\":[\"Galician\",\"Maltese\",\"Hungarian\"]},{\"category\":\"Geography\",\"type\":\"multiple\",\"difficulty\":\"easy\",\"question\":\"What name was historically used for the Turkish city currently known as Istanbul?\",\"correct_answer\":\"Constantinople\",\"incorrect_answers\":[\"H&uuml;davendigar\",\"S&ouml;\\\\u011f&uuml;t\",\"Adrianople\"]},{\"category\":\"Geography\",\"type\":\"boolean\",\"difficulty\":\"easy\",\"question\":\"Ottawa is the capital of Canada.\",\"correct_answer\":\"True\",\"incorrect_answers\":[\"False\"]},{\"category\":\"Geography\",\"type\":\"multiple\",\"difficulty\":\"easy\",\"question\":\"What is the capital of the US State of New York?\",\"correct_answer\":\"Albany\",\"incorrect_answers\":[\"Buffalo\",\"New York\",\"Rochester\"]},{\"category\":\"Geography\",\"type\":\"multiple\",\"difficulty\":\"easy\",\"question\":\"What is the largest country in the world?\",\"correct_answer\":\"Russia\",\"incorrect_answers\":[\"Canada\",\"China\",\"United States\"]},{\"category\":\"Geography\",\"type\":\"multiple\",\"difficulty\":\"easy\",\"question\":\"Which ocean borders the west coast of the United States?\",\"correct_answer\":\"Pacific\",\"incorrect_answers\":[\"Atlantic\",\"Indian\",\"Arctic\"]}]}'"
      ]
     },
     "execution_count": 2,
     "metadata": {},
     "output_type": "execute_result"
    }
   ],
   "source": [
    "#url generated from https://opentdb.com/api_config.php\n",
    "trivia_response = requests.get(\"https://opentdb.com/api.php?amount=10&category=22&difficulty=easy\")\n",
    "trivia_response.text"
   ]
  },
  {
   "cell_type": "markdown",
   "metadata": {},
   "source": [
    "# converting json to dataframe"
   ]
  },
  {
   "cell_type": "code",
   "execution_count": 3,
   "metadata": {},
   "outputs": [
    {
     "data": {
      "text/html": [
       "<div>\n",
       "<style scoped>\n",
       "    .dataframe tbody tr th:only-of-type {\n",
       "        vertical-align: middle;\n",
       "    }\n",
       "\n",
       "    .dataframe tbody tr th {\n",
       "        vertical-align: top;\n",
       "    }\n",
       "\n",
       "    .dataframe thead th {\n",
       "        text-align: right;\n",
       "    }\n",
       "</style>\n",
       "<table border=\"1\" class=\"dataframe\">\n",
       "  <thead>\n",
       "    <tr style=\"text-align: right;\">\n",
       "      <th></th>\n",
       "      <th>question</th>\n",
       "      <th>correct_answer</th>\n",
       "    </tr>\n",
       "  </thead>\n",
       "  <tbody>\n",
       "    <tr>\n",
       "      <th>0</th>\n",
       "      <td>Which city is the capital of the United States...</td>\n",
       "      <td>Washington D.C</td>\n",
       "    </tr>\n",
       "    <tr>\n",
       "      <th>1</th>\n",
       "      <td>A group of islands is called an &amp;#039;archipel...</td>\n",
       "      <td>True</td>\n",
       "    </tr>\n",
       "    <tr>\n",
       "      <th>2</th>\n",
       "      <td>Which of these is NOT an Australian state or t...</td>\n",
       "      <td>Alberta</td>\n",
       "    </tr>\n",
       "    <tr>\n",
       "      <th>3</th>\n",
       "      <td>How many federal states does Germany have?</td>\n",
       "      <td>16</td>\n",
       "    </tr>\n",
       "    <tr>\n",
       "      <th>4</th>\n",
       "      <td>Which of the following European languages is c...</td>\n",
       "      <td>Basque</td>\n",
       "    </tr>\n",
       "    <tr>\n",
       "      <th>5</th>\n",
       "      <td>What name was historically used for the Turkis...</td>\n",
       "      <td>Constantinople</td>\n",
       "    </tr>\n",
       "    <tr>\n",
       "      <th>6</th>\n",
       "      <td>Ottawa is the capital of Canada.</td>\n",
       "      <td>True</td>\n",
       "    </tr>\n",
       "    <tr>\n",
       "      <th>7</th>\n",
       "      <td>What is the capital of the US State of New York?</td>\n",
       "      <td>Albany</td>\n",
       "    </tr>\n",
       "    <tr>\n",
       "      <th>8</th>\n",
       "      <td>What is the largest country in the world?</td>\n",
       "      <td>Russia</td>\n",
       "    </tr>\n",
       "    <tr>\n",
       "      <th>9</th>\n",
       "      <td>Which ocean borders the west coast of the Unit...</td>\n",
       "      <td>Pacific</td>\n",
       "    </tr>\n",
       "  </tbody>\n",
       "</table>\n",
       "</div>"
      ],
      "text/plain": [
       "                                            question  correct_answer\n",
       "0  Which city is the capital of the United States...  Washington D.C\n",
       "1  A group of islands is called an &#039;archipel...            True\n",
       "2  Which of these is NOT an Australian state or t...         Alberta\n",
       "3         How many federal states does Germany have?              16\n",
       "4  Which of the following European languages is c...          Basque\n",
       "5  What name was historically used for the Turkis...  Constantinople\n",
       "6                   Ottawa is the capital of Canada.            True\n",
       "7   What is the capital of the US State of New York?          Albany\n",
       "8          What is the largest country in the world?          Russia\n",
       "9  Which ocean borders the west coast of the Unit...         Pacific"
      ]
     },
     "execution_count": 3,
     "metadata": {},
     "output_type": "execute_result"
    }
   ],
   "source": [
    "trivia_response_json = trivia_response.json() # converting response to json\n",
    "\n",
    "trivia_df = json_normalize(trivia_response_json, 'results') # converting json from \"results\" to dataframe\n",
    "qa_df = trivia_df[['question','correct_answer']] # selecting questions and answers\n",
    "qa_df"
   ]
  },
  {
   "cell_type": "markdown",
   "metadata": {},
   "source": [
    "# playing trivia"
   ]
  },
  {
   "cell_type": "markdown",
   "metadata": {},
   "source": []
  }
 ],
 "metadata": {
  "kernelspec": {
   "display_name": "Python 3",
   "language": "python",
   "name": "python3"
  },
  "language_info": {
   "codemirror_mode": {
    "name": "ipython",
    "version": 3
   },
   "file_extension": ".py",
   "mimetype": "text/x-python",
   "name": "python",
   "nbconvert_exporter": "python",
   "pygments_lexer": "ipython3",
   "version": "3.9.6"
  },
  "orig_nbformat": 4
 },
 "nbformat": 4,
 "nbformat_minor": 2
}
